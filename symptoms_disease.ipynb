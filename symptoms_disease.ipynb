{
  "cells": [
    {
      "cell_type": "markdown",
      "metadata": {
        "id": "view-in-github",
        "colab_type": "text"
      },
      "source": [
        "<a href=\"https://colab.research.google.com/github/Lord0fTheFlies/NMA-DL-Project/blob/main/symptoms_disease.ipynb\" target=\"_parent\"><img src=\"https://colab.research.google.com/assets/colab-badge.svg\" alt=\"Open In Colab\"/></a>"
      ]
    },
    {
      "cell_type": "markdown",
      "metadata": {
        "id": "JFhrD28bwq5J"
      },
      "source": [
        "##Neural Network 1"
      ]
    },
    {
      "cell_type": "markdown",
      "metadata": {
        "id": "DQDreNXbwq5K"
      },
      "source": [
        "#Imports"
      ]
    },
    {
      "cell_type": "code",
      "execution_count": null,
      "metadata": {
        "id": "AjB23OpWwq5K"
      },
      "outputs": [],
      "source": [
        "import pandas as pd\n",
        "from sklearn.model_selection import train_test_split\n",
        "from sklearn.preprocessing import LabelEncoder\n",
        "import torch\n",
        "from torch.utils.data import DataLoader, TensorDataset\n",
        "import torch.nn as nn\n",
        "import torch.optim as optim\n",
        "from sklearn.preprocessing import StandardScaler, PolynomialFeatures\n",
        "import numpy as np"
      ]
    },
    {
      "cell_type": "code",
      "source": [
        "df = pd.read_csv('/content/LLM_df_stringify_filtered.csv')\n",
        "num_rows, num_columns = df.shape\n",
        "print(f'Number of rows: {num_rows}')\n",
        "print(f'Number of columns: {num_columns}')\n"
      ],
      "metadata": {
        "colab": {
          "base_uri": "https://localhost:8080/"
        },
        "id": "RicMNosiTVFD",
        "outputId": "d7838dd8-9fc3-41f8-f79f-1cc95d73fb18"
      },
      "execution_count": null,
      "outputs": [
        {
          "output_type": "stream",
          "name": "stdout",
          "text": [
            "Number of rows: 26350\n",
            "Number of columns: 3\n"
          ]
        }
      ]
    },
    {
      "cell_type": "code",
      "source": [
        "print(df.info())\n"
      ],
      "metadata": {
        "colab": {
          "base_uri": "https://localhost:8080/"
        },
        "id": "ADiwE-aOUZJG",
        "outputId": "d26a5df0-c0a3-4e7d-9850-4e07d6ef09a5"
      },
      "execution_count": null,
      "outputs": [
        {
          "output_type": "stream",
          "name": "stdout",
          "text": [
            "<class 'pandas.core.frame.DataFrame'>\n",
            "RangeIndex: 26350 entries, 0 to 26349\n",
            "Data columns (total 3 columns):\n",
            " #   Column          Non-Null Count  Dtype \n",
            "---  ------          --------------  ----- \n",
            " 0   Unnamed: 0      26350 non-null  int64 \n",
            " 1   diseases        26350 non-null  object\n",
            " 2   Symptom_labels  26350 non-null  object\n",
            "dtypes: int64(1), object(2)\n",
            "memory usage: 617.7+ KB\n",
            "None\n"
          ]
        }
      ]
    },
    {
      "cell_type": "code",
      "source": [
        "df.sample(n=5)"
      ],
      "metadata": {
        "colab": {
          "base_uri": "https://localhost:8080/",
          "height": 206
        },
        "id": "RcoCKUsTVT67",
        "outputId": "03798fcf-6e03-4957-849b-a89de30dd253"
      },
      "execution_count": null,
      "outputs": [
        {
          "output_type": "execute_result",
          "data": {
            "text/plain": [
              "       Unnamed: 0                   diseases  \\\n",
              "6788         6788      diabetic ketoacidosis   \n",
              "24871       24871  transient ischemic attack   \n",
              "22758       22758               spina bifida   \n",
              "19969       19969                 presbyopia   \n",
              "7107         7107             diverticulitis   \n",
              "\n",
              "                                          Symptom_labels  \n",
              "6788   depressive or psychotic symptoms, sharp abdomi...  \n",
              "24871  depressive or psychotic symptoms, dizziness, w...  \n",
              "22758  headache, skin lesion, eye moves abnormally, d...  \n",
              "19969  pain in eye, abnormal movement of eyelid, fore...  \n",
              "7107   blood in stool, vomiting, lower abdominal pain...  "
            ],
            "text/html": [
              "\n",
              "  <div id=\"df-65520f8b-7b4b-4ba2-967f-83d3f5f58b89\" class=\"colab-df-container\">\n",
              "    <div>\n",
              "<style scoped>\n",
              "    .dataframe tbody tr th:only-of-type {\n",
              "        vertical-align: middle;\n",
              "    }\n",
              "\n",
              "    .dataframe tbody tr th {\n",
              "        vertical-align: top;\n",
              "    }\n",
              "\n",
              "    .dataframe thead th {\n",
              "        text-align: right;\n",
              "    }\n",
              "</style>\n",
              "<table border=\"1\" class=\"dataframe\">\n",
              "  <thead>\n",
              "    <tr style=\"text-align: right;\">\n",
              "      <th></th>\n",
              "      <th>Unnamed: 0</th>\n",
              "      <th>diseases</th>\n",
              "      <th>Symptom_labels</th>\n",
              "    </tr>\n",
              "  </thead>\n",
              "  <tbody>\n",
              "    <tr>\n",
              "      <th>6788</th>\n",
              "      <td>6788</td>\n",
              "      <td>diabetic ketoacidosis</td>\n",
              "      <td>depressive or psychotic symptoms, sharp abdomi...</td>\n",
              "    </tr>\n",
              "    <tr>\n",
              "      <th>24871</th>\n",
              "      <td>24871</td>\n",
              "      <td>transient ischemic attack</td>\n",
              "      <td>depressive or psychotic symptoms, dizziness, w...</td>\n",
              "    </tr>\n",
              "    <tr>\n",
              "      <th>22758</th>\n",
              "      <td>22758</td>\n",
              "      <td>spina bifida</td>\n",
              "      <td>headache, skin lesion, eye moves abnormally, d...</td>\n",
              "    </tr>\n",
              "    <tr>\n",
              "      <th>19969</th>\n",
              "      <td>19969</td>\n",
              "      <td>presbyopia</td>\n",
              "      <td>pain in eye, abnormal movement of eyelid, fore...</td>\n",
              "    </tr>\n",
              "    <tr>\n",
              "      <th>7107</th>\n",
              "      <td>7107</td>\n",
              "      <td>diverticulitis</td>\n",
              "      <td>blood in stool, vomiting, lower abdominal pain...</td>\n",
              "    </tr>\n",
              "  </tbody>\n",
              "</table>\n",
              "</div>\n",
              "    <div class=\"colab-df-buttons\">\n",
              "\n",
              "  <div class=\"colab-df-container\">\n",
              "    <button class=\"colab-df-convert\" onclick=\"convertToInteractive('df-65520f8b-7b4b-4ba2-967f-83d3f5f58b89')\"\n",
              "            title=\"Convert this dataframe to an interactive table.\"\n",
              "            style=\"display:none;\">\n",
              "\n",
              "  <svg xmlns=\"http://www.w3.org/2000/svg\" height=\"24px\" viewBox=\"0 -960 960 960\">\n",
              "    <path d=\"M120-120v-720h720v720H120Zm60-500h600v-160H180v160Zm220 220h160v-160H400v160Zm0 220h160v-160H400v160ZM180-400h160v-160H180v160Zm440 0h160v-160H620v160ZM180-180h160v-160H180v160Zm440 0h160v-160H620v160Z\"/>\n",
              "  </svg>\n",
              "    </button>\n",
              "\n",
              "  <style>\n",
              "    .colab-df-container {\n",
              "      display:flex;\n",
              "      gap: 12px;\n",
              "    }\n",
              "\n",
              "    .colab-df-convert {\n",
              "      background-color: #E8F0FE;\n",
              "      border: none;\n",
              "      border-radius: 50%;\n",
              "      cursor: pointer;\n",
              "      display: none;\n",
              "      fill: #1967D2;\n",
              "      height: 32px;\n",
              "      padding: 0 0 0 0;\n",
              "      width: 32px;\n",
              "    }\n",
              "\n",
              "    .colab-df-convert:hover {\n",
              "      background-color: #E2EBFA;\n",
              "      box-shadow: 0px 1px 2px rgba(60, 64, 67, 0.3), 0px 1px 3px 1px rgba(60, 64, 67, 0.15);\n",
              "      fill: #174EA6;\n",
              "    }\n",
              "\n",
              "    .colab-df-buttons div {\n",
              "      margin-bottom: 4px;\n",
              "    }\n",
              "\n",
              "    [theme=dark] .colab-df-convert {\n",
              "      background-color: #3B4455;\n",
              "      fill: #D2E3FC;\n",
              "    }\n",
              "\n",
              "    [theme=dark] .colab-df-convert:hover {\n",
              "      background-color: #434B5C;\n",
              "      box-shadow: 0px 1px 3px 1px rgba(0, 0, 0, 0.15);\n",
              "      filter: drop-shadow(0px 1px 2px rgba(0, 0, 0, 0.3));\n",
              "      fill: #FFFFFF;\n",
              "    }\n",
              "  </style>\n",
              "\n",
              "    <script>\n",
              "      const buttonEl =\n",
              "        document.querySelector('#df-65520f8b-7b4b-4ba2-967f-83d3f5f58b89 button.colab-df-convert');\n",
              "      buttonEl.style.display =\n",
              "        google.colab.kernel.accessAllowed ? 'block' : 'none';\n",
              "\n",
              "      async function convertToInteractive(key) {\n",
              "        const element = document.querySelector('#df-65520f8b-7b4b-4ba2-967f-83d3f5f58b89');\n",
              "        const dataTable =\n",
              "          await google.colab.kernel.invokeFunction('convertToInteractive',\n",
              "                                                    [key], {});\n",
              "        if (!dataTable) return;\n",
              "\n",
              "        const docLinkHtml = 'Like what you see? Visit the ' +\n",
              "          '<a target=\"_blank\" href=https://colab.research.google.com/notebooks/data_table.ipynb>data table notebook</a>'\n",
              "          + ' to learn more about interactive tables.';\n",
              "        element.innerHTML = '';\n",
              "        dataTable['output_type'] = 'display_data';\n",
              "        await google.colab.output.renderOutput(dataTable, element);\n",
              "        const docLink = document.createElement('div');\n",
              "        docLink.innerHTML = docLinkHtml;\n",
              "        element.appendChild(docLink);\n",
              "      }\n",
              "    </script>\n",
              "  </div>\n",
              "\n",
              "\n",
              "<div id=\"df-8413a887-8cca-40af-a1bc-34a84ccd0107\">\n",
              "  <button class=\"colab-df-quickchart\" onclick=\"quickchart('df-8413a887-8cca-40af-a1bc-34a84ccd0107')\"\n",
              "            title=\"Suggest charts\"\n",
              "            style=\"display:none;\">\n",
              "\n",
              "<svg xmlns=\"http://www.w3.org/2000/svg\" height=\"24px\"viewBox=\"0 0 24 24\"\n",
              "     width=\"24px\">\n",
              "    <g>\n",
              "        <path d=\"M19 3H5c-1.1 0-2 .9-2 2v14c0 1.1.9 2 2 2h14c1.1 0 2-.9 2-2V5c0-1.1-.9-2-2-2zM9 17H7v-7h2v7zm4 0h-2V7h2v10zm4 0h-2v-4h2v4z\"/>\n",
              "    </g>\n",
              "</svg>\n",
              "  </button>\n",
              "\n",
              "<style>\n",
              "  .colab-df-quickchart {\n",
              "      --bg-color: #E8F0FE;\n",
              "      --fill-color: #1967D2;\n",
              "      --hover-bg-color: #E2EBFA;\n",
              "      --hover-fill-color: #174EA6;\n",
              "      --disabled-fill-color: #AAA;\n",
              "      --disabled-bg-color: #DDD;\n",
              "  }\n",
              "\n",
              "  [theme=dark] .colab-df-quickchart {\n",
              "      --bg-color: #3B4455;\n",
              "      --fill-color: #D2E3FC;\n",
              "      --hover-bg-color: #434B5C;\n",
              "      --hover-fill-color: #FFFFFF;\n",
              "      --disabled-bg-color: #3B4455;\n",
              "      --disabled-fill-color: #666;\n",
              "  }\n",
              "\n",
              "  .colab-df-quickchart {\n",
              "    background-color: var(--bg-color);\n",
              "    border: none;\n",
              "    border-radius: 50%;\n",
              "    cursor: pointer;\n",
              "    display: none;\n",
              "    fill: var(--fill-color);\n",
              "    height: 32px;\n",
              "    padding: 0;\n",
              "    width: 32px;\n",
              "  }\n",
              "\n",
              "  .colab-df-quickchart:hover {\n",
              "    background-color: var(--hover-bg-color);\n",
              "    box-shadow: 0 1px 2px rgba(60, 64, 67, 0.3), 0 1px 3px 1px rgba(60, 64, 67, 0.15);\n",
              "    fill: var(--button-hover-fill-color);\n",
              "  }\n",
              "\n",
              "  .colab-df-quickchart-complete:disabled,\n",
              "  .colab-df-quickchart-complete:disabled:hover {\n",
              "    background-color: var(--disabled-bg-color);\n",
              "    fill: var(--disabled-fill-color);\n",
              "    box-shadow: none;\n",
              "  }\n",
              "\n",
              "  .colab-df-spinner {\n",
              "    border: 2px solid var(--fill-color);\n",
              "    border-color: transparent;\n",
              "    border-bottom-color: var(--fill-color);\n",
              "    animation:\n",
              "      spin 1s steps(1) infinite;\n",
              "  }\n",
              "\n",
              "  @keyframes spin {\n",
              "    0% {\n",
              "      border-color: transparent;\n",
              "      border-bottom-color: var(--fill-color);\n",
              "      border-left-color: var(--fill-color);\n",
              "    }\n",
              "    20% {\n",
              "      border-color: transparent;\n",
              "      border-left-color: var(--fill-color);\n",
              "      border-top-color: var(--fill-color);\n",
              "    }\n",
              "    30% {\n",
              "      border-color: transparent;\n",
              "      border-left-color: var(--fill-color);\n",
              "      border-top-color: var(--fill-color);\n",
              "      border-right-color: var(--fill-color);\n",
              "    }\n",
              "    40% {\n",
              "      border-color: transparent;\n",
              "      border-right-color: var(--fill-color);\n",
              "      border-top-color: var(--fill-color);\n",
              "    }\n",
              "    60% {\n",
              "      border-color: transparent;\n",
              "      border-right-color: var(--fill-color);\n",
              "    }\n",
              "    80% {\n",
              "      border-color: transparent;\n",
              "      border-right-color: var(--fill-color);\n",
              "      border-bottom-color: var(--fill-color);\n",
              "    }\n",
              "    90% {\n",
              "      border-color: transparent;\n",
              "      border-bottom-color: var(--fill-color);\n",
              "    }\n",
              "  }\n",
              "</style>\n",
              "\n",
              "  <script>\n",
              "    async function quickchart(key) {\n",
              "      const quickchartButtonEl =\n",
              "        document.querySelector('#' + key + ' button');\n",
              "      quickchartButtonEl.disabled = true;  // To prevent multiple clicks.\n",
              "      quickchartButtonEl.classList.add('colab-df-spinner');\n",
              "      try {\n",
              "        const charts = await google.colab.kernel.invokeFunction(\n",
              "            'suggestCharts', [key], {});\n",
              "      } catch (error) {\n",
              "        console.error('Error during call to suggestCharts:', error);\n",
              "      }\n",
              "      quickchartButtonEl.classList.remove('colab-df-spinner');\n",
              "      quickchartButtonEl.classList.add('colab-df-quickchart-complete');\n",
              "    }\n",
              "    (() => {\n",
              "      let quickchartButtonEl =\n",
              "        document.querySelector('#df-8413a887-8cca-40af-a1bc-34a84ccd0107 button');\n",
              "      quickchartButtonEl.style.display =\n",
              "        google.colab.kernel.accessAllowed ? 'block' : 'none';\n",
              "    })();\n",
              "  </script>\n",
              "</div>\n",
              "\n",
              "    </div>\n",
              "  </div>\n"
            ],
            "application/vnd.google.colaboratory.intrinsic+json": {
              "type": "dataframe",
              "summary": "{\n  \"name\": \"df\",\n  \"rows\": 5,\n  \"fields\": [\n    {\n      \"column\": \"Unnamed: 0\",\n      \"properties\": {\n        \"dtype\": \"number\",\n        \"std\": 8712,\n        \"min\": 6788,\n        \"max\": 24871,\n        \"num_unique_values\": 5,\n        \"samples\": [\n          24871,\n          7107,\n          22758\n        ],\n        \"semantic_type\": \"\",\n        \"description\": \"\"\n      }\n    },\n    {\n      \"column\": \"diseases\",\n      \"properties\": {\n        \"dtype\": \"string\",\n        \"num_unique_values\": 5,\n        \"samples\": [\n          \"transient ischemic attack\",\n          \"diverticulitis\",\n          \"spina bifida\"\n        ],\n        \"semantic_type\": \"\",\n        \"description\": \"\"\n      }\n    },\n    {\n      \"column\": \"Symptom_labels\",\n      \"properties\": {\n        \"dtype\": \"string\",\n        \"num_unique_values\": 5,\n        \"samples\": [\n          \"depressive or psychotic symptoms, dizziness, weakness\",\n          \"blood in stool, vomiting, lower abdominal pain, fever, upper abdominal pain, chills\",\n          \"headache, skin lesion, eye moves abnormally, disturbance of memory\"\n        ],\n        \"semantic_type\": \"\",\n        \"description\": \"\"\n      }\n    }\n  ]\n}"
            }
          },
          "metadata": {},
          "execution_count": 4
        }
      ]
    },
    {
      "cell_type": "code",
      "source": [
        "print(len(df['diseases'].unique()))"
      ],
      "metadata": {
        "colab": {
          "base_uri": "https://localhost:8080/"
        },
        "id": "Bv1WGCxjV6qg",
        "outputId": "85307bbf-0f5c-4a41-9729-19c1d6a5bb1b"
      },
      "execution_count": null,
      "outputs": [
        {
          "output_type": "stream",
          "name": "stdout",
          "text": [
            "527\n"
          ]
        }
      ]
    },
    {
      "cell_type": "code",
      "source": [
        "df['diseases'].value_counts()"
      ],
      "metadata": {
        "colab": {
          "base_uri": "https://localhost:8080/"
        },
        "id": "f-WjyV3-WP9Z",
        "outputId": "fd51438e-2824-494f-8781-e9670a2b10a1"
      },
      "execution_count": null,
      "outputs": [
        {
          "output_type": "execute_result",
          "data": {
            "text/plain": [
              "diseases\n",
              "abdominal aortic aneurysm    50\n",
              "paronychia                   50\n",
              "parasitic disease            50\n",
              "panic disorder               50\n",
              "panic attack                 50\n",
              "                             ..\n",
              "esophageal cancer            50\n",
              "erectile dysfunction         50\n",
              "epilepsy                     50\n",
              "epididymitis                 50\n",
              "yeast infection              50\n",
              "Name: count, Length: 527, dtype: int64"
            ]
          },
          "metadata": {},
          "execution_count": 6
        }
      ]
    },
    {
      "cell_type": "code",
      "source": [
        "from pickle import TRUE\n",
        "\n",
        "# Find duplicate symptoms with different disease names\n",
        "duplicates = df[df.duplicated(subset=['Symptom_labels'], keep=False)]\n",
        "duplicate_counts = duplicates.groupby('Symptom_labels')['diseases'].nunique()\n",
        "conflicting_symptoms = duplicate_counts[duplicate_counts > 1].index\n",
        "\n",
        "# Print the count of such cases\n",
        "print(f'Count of duplicate symptoms with different diseases: {len(conflicting_symptoms)}')\n",
        "\n",
        "# Print examples\n",
        "print(duplicates[duplicates['Symptom_labels'].isin(conflicting_symptoms)].head())\n",
        "\n",
        "# Remove all rows with conflicting symptoms and keep the first occurrence\n",
        "df_cleaned = df.drop_duplicates(subset=['Symptom_labels'], keep='first')\n",
        "\n",
        "# Print the updated dataframe\n",
        "print(df_cleaned.info())\n"
      ],
      "metadata": {
        "colab": {
          "base_uri": "https://localhost:8080/"
        },
        "id": "0NEdRDOCWrea",
        "outputId": "cb104602-de02-4137-a9bc-c1b784f91836"
      },
      "execution_count": null,
      "outputs": [
        {
          "output_type": "stream",
          "name": "stdout",
          "text": [
            "Count of duplicate symptoms with different diseases: 471\n",
            "     Unnamed: 0                   diseases  \\\n",
            "38           38  abdominal aortic aneurysm   \n",
            "118         118            abscess of nose   \n",
            "122         122            abscess of nose   \n",
            "163         163     abscess of the pharynx   \n",
            "174         174     abscess of the pharynx   \n",
            "\n",
            "                                     Symptom_labels  \n",
            "38                shortness of breath, palpitations  \n",
            "118               nasal congestion, vomiting, fever  \n",
            "122                      sore throat, fever, coryza  \n",
            "163                          cough, headache, fever  \n",
            "174  sharp chest pain, sore throat, cough, headache  \n",
            "<class 'pandas.core.frame.DataFrame'>\n",
            "Index: 21378 entries, 0 to 26348\n",
            "Data columns (total 3 columns):\n",
            " #   Column          Non-Null Count  Dtype \n",
            "---  ------          --------------  ----- \n",
            " 0   Unnamed: 0      21378 non-null  int64 \n",
            " 1   diseases        21378 non-null  object\n",
            " 2   Symptom_labels  21378 non-null  object\n",
            "dtypes: int64(1), object(2)\n",
            "memory usage: 668.1+ KB\n",
            "None\n"
          ]
        }
      ]
    },
    {
      "cell_type": "code",
      "source": [
        "print(len(df_cleaned['diseases'].unique()))\n",
        "df_cleaned['diseases'].value_counts()"
      ],
      "metadata": {
        "colab": {
          "base_uri": "https://localhost:8080/"
        },
        "id": "07oN37CCY0pa",
        "outputId": "b39bad0c-ce30-4432-f4cc-92086d1f08f3"
      },
      "execution_count": null,
      "outputs": [
        {
          "output_type": "stream",
          "name": "stdout",
          "text": [
            "527\n"
          ]
        },
        {
          "output_type": "execute_result",
          "data": {
            "text/plain": [
              "diseases\n",
              "injury to the arm                     50\n",
              "conductive hearing loss               50\n",
              "oral thrush (yeast infection)         50\n",
              "diverticulitis                        50\n",
              "otitis externa (swimmer's ear)        50\n",
              "                                      ..\n",
              "fracture of the skull                 12\n",
              "injury to the abdomen                 11\n",
              "hormone disorder                      10\n",
              "idiopathic infrequent menstruation     8\n",
              "salivary gland disorder                8\n",
              "Name: count, Length: 527, dtype: int64"
            ]
          },
          "metadata": {},
          "execution_count": 8
        }
      ]
    },
    {
      "cell_type": "code",
      "source": [
        "# Remove the 'Unnamed: 0' column\n",
        "df_cleaned = df_cleaned.loc[:, ~df_cleaned.columns.str.contains('^Unnamed')]"
      ],
      "metadata": {
        "id": "-yx6m80LZZLf"
      },
      "execution_count": null,
      "outputs": []
    },
    {
      "cell_type": "code",
      "source": [
        "from sklearn.feature_extraction.text import CountVectorizer\n",
        "from sklearn.preprocessing import LabelEncoder\n",
        "\n",
        "# Encode the symptoms using CountVectorizer\n",
        "vectorizer = CountVectorizer()\n",
        "X = vectorizer.fit_transform(df_cleaned['Symptom_labels']).toarray()\n",
        "\n",
        "# Encode the diseases\n",
        "label_encoder = LabelEncoder()\n",
        "y = label_encoder.fit_transform(df_cleaned['diseases'])\n",
        "\n",
        "# Split the data into training and test sets\n",
        "X_train_v1, X_test_v1, y_train_v1, y_test_v1 = train_test_split(X, y, test_size=0.2, random_state=42)\n",
        "\n",
        "# Normalize the features\n",
        "scaler = StandardScaler()\n",
        "X_train_scaled = scaler.fit_transform(X_train_v1)\n",
        "X_test_scaled = scaler.transform(X_test_v1)\n",
        "\n",
        "# Convert to PyTorch tensors\n",
        "X_train_tensor_v1 = torch.tensor(X_train_scaled, dtype=torch.float32)\n",
        "X_test_tensor_v1 = torch.tensor(X_test_scaled, dtype=torch.float32)\n",
        "y_train_tensor_v1 = torch.tensor(y_train_v1, dtype=torch.long)\n",
        "y_test_tensor_v1 = torch.tensor(y_test_v1, dtype=torch.long)"
      ],
      "metadata": {
        "id": "J90bzf2Ybp2t"
      },
      "execution_count": null,
      "outputs": []
    },
    {
      "cell_type": "code",
      "source": [
        "# Define your neural network model\n",
        "class EnhancedNeuralNet(nn.Module):\n",
        "    def __init__(self, input_dim, output_dim):\n",
        "        super(EnhancedNeuralNet, self).__init__()\n",
        "        self.fc1 = nn.Linear(input_dim, 2048)\n",
        "        self.bn1 = nn.BatchNorm1d(2048)\n",
        "        self.dropout1 = nn.Dropout(0.5)\n",
        "        self.fc2 = nn.Linear(2048, 1024)\n",
        "        self.bn2 = nn.BatchNorm1d(1024)\n",
        "        self.dropout2 = nn.Dropout(0.5)\n",
        "        self.fc3 = nn.Linear(1024, 512)\n",
        "        self.bn3 = nn.BatchNorm1d(512)\n",
        "        self.fc4 = nn.Linear(512, output_dim)\n",
        "        self.output_dim = output_dim\n",
        "\n",
        "    def forward(self, x):\n",
        "        x = torch.relu(self.bn1(self.fc1(x)))\n",
        "        x = self.dropout1(x)\n",
        "        x = torch.relu(self.bn2(self.fc2(x)))\n",
        "        x = self.dropout2(x)\n",
        "        x = torch.relu(self.bn3(self.fc3(x)))\n",
        "        if self.output_dim > 1:\n",
        "            x = nn.functional.log_softmax(self.fc4(x), dim=1)\n",
        "        else:\n",
        "            x = torch.sigmoid(self.fc4(x))\n",
        "        return x\n"
      ],
      "metadata": {
        "id": "PF2y22jZb1Ei"
      },
      "execution_count": null,
      "outputs": []
    },
    {
      "cell_type": "code",
      "source": [
        "import matplotlib.pyplot as plt\n",
        "\n",
        "# Function to train the model and track accuracy\n",
        "def train_model_v1(model, X_train, y_train, X_test, y_test, optimizer, criterion, num_epochs=50, batch_size=64):\n",
        "    train_losses = []\n",
        "    test_losses = []\n",
        "    train_accs = []\n",
        "    test_accs = []\n",
        "    model.train()\n",
        "    train_dataset = TensorDataset(X_train, y_train)\n",
        "    train_loader = DataLoader(train_dataset, batch_size=batch_size, shuffle=True)\n",
        "    test_dataset = TensorDataset(X_test, y_test)\n",
        "    test_loader = DataLoader(test_dataset, batch_size=batch_size)\n",
        "\n",
        "    for epoch in range(num_epochs):\n",
        "        running_loss = 0.0\n",
        "        correct_train = 0\n",
        "        total_train = 0\n",
        "        for inputs, labels in train_loader:\n",
        "            optimizer.zero_grad()\n",
        "            outputs = model(inputs)\n",
        "            loss = criterion(outputs, labels)\n",
        "            loss.backward()\n",
        "            optimizer.step()\n",
        "            running_loss += loss.item() * inputs.size(0)\n",
        "            _, predicted = torch.max(outputs, 1)\n",
        "            total_train += labels.size(0)\n",
        "            correct_train += (predicted == labels).sum().item()\n",
        "\n",
        "        epoch_loss = running_loss / len(train_loader.dataset)\n",
        "        train_losses.append(epoch_loss)\n",
        "        train_accuracy = 100 * correct_train / total_train\n",
        "        train_accs.append(train_accuracy)\n",
        "\n",
        "        # Evaluate on test set\n",
        "        model.eval()\n",
        "        correct_test = 0\n",
        "        total_test = 0\n",
        "        test_loss = 0.0\n",
        "        with torch.no_grad():\n",
        "            for inputs, labels in test_loader:\n",
        "                outputs = model(inputs)\n",
        "                loss = criterion(outputs, labels)\n",
        "                test_loss += loss.item() * inputs.size(0)\n",
        "                _, predicted = torch.max(outputs, 1)\n",
        "                total_test += labels.size(0)\n",
        "                correct_test += (predicted == labels).sum().item()\n",
        "\n",
        "        test_loss = test_loss / len(test_loader.dataset)\n",
        "        test_losses.append(test_loss)\n",
        "        test_accuracy = 100 * correct_test / total_test\n",
        "        test_accs.append(test_accuracy)\n",
        "\n",
        "        print(f'Epoch {epoch+1}/{num_epochs}, Loss: {epoch_loss:.4f}, Train Accuracy: {train_accuracy:.2f}%, Test Accuracy: {test_accuracy:.2f}%')\n",
        "\n",
        "    # Plotting\n",
        "    plt.figure(figsize=(12, 5))\n",
        "\n",
        "    # Plot loss\n",
        "    plt.subplot(1, 2, 1)\n",
        "    plt.plot(range(1, num_epochs + 1), train_losses, label='Train Loss')\n",
        "    plt.plot(range(1, num_epochs + 1), test_losses, label='Test Loss')\n",
        "    plt.xlabel('Epoch')\n",
        "    plt.ylabel('Loss')\n",
        "    plt.title('Training and Test Loss')\n",
        "    plt.legend()\n",
        "\n",
        "    # Plot accuracy\n",
        "    plt.subplot(1, 2, 2)\n",
        "    plt.plot(range(1, num_epochs + 1), train_accs, label='Train Accuracy')\n",
        "    plt.plot(range(1, num_epochs + 1), test_accs, label='Test Accuracy')\n",
        "    plt.xlabel('Epoch')\n",
        "    plt.ylabel('Accuracy (%)')\n",
        "    plt.title('Training and Test Accuracy')\n",
        "    plt.legend()\n",
        "\n",
        "    plt.tight_layout()\n",
        "    plt.show()"
      ],
      "metadata": {
        "id": "RmG7wrT4dYvF"
      },
      "execution_count": null,
      "outputs": []
    },
    {
      "cell_type": "code",
      "source": [
        "# Initialize model and optimizer\n",
        "model_v1 = EnhancedNeuralNet(X_train_tensor_v1.shape[1], len(label_encoder.classes_))\n",
        "optimizer_v1 = optim.Adam(model_v1.parameters(), lr=0.001)\n",
        "criterion_v1 = nn.CrossEntropyLoss()  # Use CrossEntropyLoss for multi-class classification\n",
        "\n",
        "# Train the model\n",
        "train_model_v1(model_v1, X_train_tensor_v1, y_train_tensor_v1, X_test_tensor_v1, y_test_tensor_v1, optimizer_v1, criterion_v1)\n"
      ],
      "metadata": {
        "colab": {
          "base_uri": "https://localhost:8080/",
          "height": 1000
        },
        "id": "BkWTYPHea7v7",
        "outputId": "c47a40f5-a3c4-4176-d73a-462132e968ec"
      },
      "execution_count": null,
      "outputs": [
        {
          "output_type": "stream",
          "name": "stdout",
          "text": [
            "Epoch 1/50, Loss: 2.9246, Train Accuracy: 45.05%, Test Accuracy: 73.67%\n",
            "Epoch 2/50, Loss: 0.7705, Train Accuracy: 76.90%, Test Accuracy: 77.85%\n",
            "Epoch 3/50, Loss: 0.5808, Train Accuracy: 81.87%, Test Accuracy: 79.44%\n",
            "Epoch 4/50, Loss: 0.4824, Train Accuracy: 84.72%, Test Accuracy: 80.73%\n",
            "Epoch 5/50, Loss: 0.4277, Train Accuracy: 86.02%, Test Accuracy: 81.20%\n",
            "Epoch 6/50, Loss: 0.3882, Train Accuracy: 87.57%, Test Accuracy: 80.68%\n",
            "Epoch 7/50, Loss: 0.3237, Train Accuracy: 89.67%, Test Accuracy: 80.17%\n",
            "Epoch 8/50, Loss: 0.3136, Train Accuracy: 90.01%, Test Accuracy: 81.62%\n",
            "Epoch 9/50, Loss: 0.2676, Train Accuracy: 91.40%, Test Accuracy: 80.61%\n",
            "Epoch 10/50, Loss: 0.2462, Train Accuracy: 92.02%, Test Accuracy: 81.34%\n",
            "Epoch 11/50, Loss: 0.2303, Train Accuracy: 92.51%, Test Accuracy: 80.80%\n",
            "Epoch 12/50, Loss: 0.2477, Train Accuracy: 92.51%, Test Accuracy: 81.13%\n",
            "Epoch 13/50, Loss: 0.2117, Train Accuracy: 93.38%, Test Accuracy: 80.43%\n",
            "Epoch 14/50, Loss: 0.1968, Train Accuracy: 94.02%, Test Accuracy: 80.80%\n",
            "Epoch 15/50, Loss: 0.1701, Train Accuracy: 94.73%, Test Accuracy: 81.81%\n",
            "Epoch 16/50, Loss: 0.1723, Train Accuracy: 94.91%, Test Accuracy: 80.36%\n",
            "Epoch 17/50, Loss: 0.1988, Train Accuracy: 94.26%, Test Accuracy: 81.62%\n",
            "Epoch 18/50, Loss: 0.1564, Train Accuracy: 95.46%, Test Accuracy: 82.20%\n",
            "Epoch 19/50, Loss: 0.1136, Train Accuracy: 96.60%, Test Accuracy: 82.30%\n",
            "Epoch 20/50, Loss: 0.1243, Train Accuracy: 96.64%, Test Accuracy: 81.41%\n",
            "Epoch 21/50, Loss: 0.1418, Train Accuracy: 96.46%, Test Accuracy: 79.89%\n",
            "Epoch 22/50, Loss: 0.1429, Train Accuracy: 96.16%, Test Accuracy: 80.03%\n",
            "Epoch 23/50, Loss: 0.1832, Train Accuracy: 95.99%, Test Accuracy: 80.66%\n",
            "Epoch 24/50, Loss: 0.1808, Train Accuracy: 95.67%, Test Accuracy: 79.98%\n",
            "Epoch 25/50, Loss: 0.1201, Train Accuracy: 96.90%, Test Accuracy: 82.11%\n",
            "Epoch 26/50, Loss: 0.0901, Train Accuracy: 97.40%, Test Accuracy: 81.69%\n",
            "Epoch 27/50, Loss: 0.0697, Train Accuracy: 98.11%, Test Accuracy: 82.25%\n",
            "Epoch 28/50, Loss: 0.0733, Train Accuracy: 98.22%, Test Accuracy: 82.11%\n",
            "Epoch 29/50, Loss: 0.0752, Train Accuracy: 98.03%, Test Accuracy: 81.81%\n",
            "Epoch 30/50, Loss: 0.0937, Train Accuracy: 97.73%, Test Accuracy: 81.52%\n",
            "Epoch 31/50, Loss: 0.1693, Train Accuracy: 96.19%, Test Accuracy: 81.27%\n",
            "Epoch 32/50, Loss: 0.1483, Train Accuracy: 96.44%, Test Accuracy: 81.78%\n",
            "Epoch 33/50, Loss: 0.0834, Train Accuracy: 98.04%, Test Accuracy: 81.85%\n",
            "Epoch 34/50, Loss: 0.0677, Train Accuracy: 98.36%, Test Accuracy: 81.69%\n",
            "Epoch 35/50, Loss: 0.0636, Train Accuracy: 98.56%, Test Accuracy: 82.81%\n",
            "Epoch 36/50, Loss: 0.0598, Train Accuracy: 98.57%, Test Accuracy: 81.97%\n",
            "Epoch 37/50, Loss: 0.0754, Train Accuracy: 98.28%, Test Accuracy: 82.25%\n",
            "Epoch 38/50, Loss: 0.0883, Train Accuracy: 97.99%, Test Accuracy: 80.96%\n",
            "Epoch 39/50, Loss: 0.2152, Train Accuracy: 96.14%, Test Accuracy: 79.40%\n",
            "Epoch 40/50, Loss: 0.1762, Train Accuracy: 96.18%, Test Accuracy: 81.67%\n",
            "Epoch 41/50, Loss: 0.0696, Train Accuracy: 98.25%, Test Accuracy: 81.92%\n",
            "Epoch 42/50, Loss: 0.0577, Train Accuracy: 98.64%, Test Accuracy: 82.32%\n",
            "Epoch 43/50, Loss: 0.0400, Train Accuracy: 99.20%, Test Accuracy: 82.72%\n",
            "Epoch 44/50, Loss: 0.0389, Train Accuracy: 99.18%, Test Accuracy: 82.86%\n",
            "Epoch 45/50, Loss: 0.0307, Train Accuracy: 99.29%, Test Accuracy: 82.69%\n",
            "Epoch 46/50, Loss: 0.0346, Train Accuracy: 99.19%, Test Accuracy: 82.13%\n",
            "Epoch 47/50, Loss: 0.0621, Train Accuracy: 98.68%, Test Accuracy: 81.24%\n",
            "Epoch 48/50, Loss: 0.0866, Train Accuracy: 98.05%, Test Accuracy: 80.96%\n",
            "Epoch 49/50, Loss: 0.0893, Train Accuracy: 98.07%, Test Accuracy: 81.59%\n",
            "Epoch 50/50, Loss: 0.0803, Train Accuracy: 98.19%, Test Accuracy: 81.48%\n"
          ]
        },
        {
          "output_type": "display_data",
          "data": {
            "text/plain": [
              "<Figure size 1200x500 with 2 Axes>"
            ],
            "image/png": "[encoded data removed]"
          },
          "metadata": {}
        }
      ]
    },
    {
      "cell_type": "code",
      "source": [
        "from sklearn.metrics import precision_recall_fscore_support, accuracy_score\n",
        "\n",
        "# Function to evaluate the model\n",
        "def evaluate_model_v1(model, criterion, X_test_tensor, y_test_tensor):\n",
        "    model.eval()\n",
        "    test_loss = 0.0\n",
        "    y_true = []\n",
        "    y_pred = []\n",
        "\n",
        "    with torch.no_grad():\n",
        "        outputs = model(X_test_tensor)\n",
        "        _, predicted = torch.max(outputs, 1)\n",
        "\n",
        "        # Calculate accuracy\n",
        "        accuracy = accuracy_score(y_test_tensor.cpu().numpy(), predicted.cpu().numpy()) * 100\n",
        "\n",
        "        # Calculate loss (if needed)\n",
        "        loss = criterion(outputs, y_test_tensor)\n",
        "        test_loss = loss.item()\n",
        "\n",
        "        # Convert tensors to numpy arrays for metrics calculation\n",
        "        y_true = y_test_tensor.cpu().numpy()\n",
        "        y_pred = predicted.cpu().numpy()\n",
        "\n",
        "    # Calculate precision, recall, f1-score\n",
        "    precision, recall, f1, _ = precision_recall_fscore_support(y_true, y_pred, average='weighted')\n",
        "\n",
        "    print(f'Test Accuracy: {accuracy:.2f}%')\n",
        "    print(f'Test Loss: {test_loss:.4f}')\n",
        "    print(f'Precision: {precision:.4f}')\n",
        "    print(f'Recall: {recall:.4f}')\n",
        "    print(f'F1 Score: {f1:.4f}')\n",
        "\n",
        "# Evaluate the model\n",
        "evaluate_model_v1(model_v1, criterion_v1, X_test_tensor_v1, y_test_tensor_v1)\n"
      ],
      "metadata": {
        "colab": {
          "base_uri": "https://localhost:8080/"
        },
        "id": "n5-i9xdxnhLg",
        "outputId": "9fd01f05-8d27-4b3c-908b-f683a064a6b7"
      },
      "execution_count": null,
      "outputs": [
        {
          "output_type": "stream",
          "name": "stdout",
          "text": [
            "Test Accuracy: 81.48%\n",
            "Test Loss: 1.3550\n",
            "Precision: 0.8444\n",
            "Recall: 0.8148\n",
            "F1 Score: 0.8170\n"
          ]
        },
        {
          "output_type": "stream",
          "name": "stderr",
          "text": [
            "/usr/local/lib/python3.10/dist-packages/sklearn/metrics/_classification.py:1344: UndefinedMetricWarning: Recall and F-score are ill-defined and being set to 0.0 in labels with no true samples. Use `zero_division` parameter to control this behavior.\n",
            "  _warn_prf(average, modifier, msg_start, len(result))\n"
          ]
        }
      ]
    },
    {
      "cell_type": "markdown",
      "source": [
        "# **Enhanced model**"
      ],
      "metadata": {
        "id": "MgVcSjmhm58v"
      }
    },
    {
      "cell_type": "code",
      "source": [
        "import torch\n",
        "import torch.nn as nn\n",
        "import torch.nn.functional as F\n",
        "from torch.utils.data import DataLoader, TensorDataset\n",
        "from sklearn.model_selection import train_test_split\n",
        "from sklearn.metrics import precision_recall_fscore_support, accuracy_score\n",
        "import matplotlib.pyplot as plt\n",
        "from torch.optim.lr_scheduler import ReduceLROnPlateau\n",
        "\n",
        "# Split dataset into train, validation, and test sets\n",
        "X_train_enhanced, X_test_enhanced, y_train_enhanced, y_test_enhanced = train_test_split(X, y, test_size=0.2, random_state=42)\n",
        "X_train_enhanced, X_val_enhanced, y_train_enhanced, y_val_enhanced = train_test_split(X_train_enhanced, y_train_enhanced, test_size=0.2, random_state=42)\n",
        "\n",
        "# Convert data to PyTorch tensors\n",
        "def convert_to_tensor(data):\n",
        "    return torch.tensor(data, dtype=torch.float32)\n",
        "\n",
        "X_train_tensor = convert_to_tensor(X_train_enhanced)\n",
        "X_val_tensor = convert_to_tensor(X_val_enhanced)\n",
        "X_test_tensor = convert_to_tensor(X_test_enhanced)\n",
        "y_train_tensor = torch.tensor(y_train_enhanced, dtype=torch.long)\n",
        "y_val_tensor = torch.tensor(y_val_enhanced, dtype=torch.long)\n",
        "y_test_tensor = torch.tensor(y_test_enhanced, dtype=torch.long)\n",
        "\n",
        "# Define a slightly more complex neural network model\n",
        "class SimpleNeuralNet(nn.Module):\n",
        "    def __init__(self, input_dim, output_dim):\n",
        "        super(SimpleNeuralNet, self).__init__()\n",
        "        self.fc1 = nn.Linear(input_dim, 1024)\n",
        "        self.bn1 = nn.BatchNorm1d(1024)\n",
        "        self.dropout1 = nn.Dropout(0.5)\n",
        "        self.fc2 = nn.Linear(1024, 512)\n",
        "        self.bn2 = nn.BatchNorm1d(512)\n",
        "        self.dropout2 = nn.Dropout(0.5)\n",
        "        self.fc3 = nn.Linear(512, output_dim)\n",
        "        self.output_dim = output_dim\n",
        "\n",
        "    def forward(self, x):\n",
        "        x = F.relu(self.bn1(self.fc1(x)))\n",
        "        x = self.dropout1(x)\n",
        "        x = F.relu(self.bn2(self.fc2(x)))\n",
        "        x = self.dropout2(x)\n",
        "        x = F.log_softmax(self.fc3(x), dim=1)  # Assuming multi-class classification\n",
        "        return x\n",
        "\n",
        "# Function to train the model and track accuracy\n",
        "def train_model_enhanced(model, X_train, y_train, X_val, y_val, optimizer, criterion, scheduler=None, num_epochs=50, batch_size=64):\n",
        "    train_losses = []\n",
        "    val_losses = []\n",
        "    train_accs = []\n",
        "    val_accs = []\n",
        "    best_val_loss = float('inf')\n",
        "    epochs_without_improvement = 0\n",
        "    patience = 5  # Adjust as needed\n",
        "\n",
        "    train_dataset = TensorDataset(X_train, y_train)\n",
        "    train_loader = DataLoader(train_dataset, batch_size=batch_size, shuffle=True)\n",
        "    val_dataset = TensorDataset(X_val, y_val)\n",
        "    val_loader = DataLoader(val_dataset, batch_size=batch_size)\n",
        "\n",
        "    for epoch in range(num_epochs):\n",
        "        # Training loop\n",
        "        model.train()\n",
        "        running_loss = 0.0\n",
        "        correct_train = 0\n",
        "        total_train = 0\n",
        "        for inputs, labels in train_loader:\n",
        "            optimizer.zero_grad()\n",
        "            outputs = model(inputs)\n",
        "            loss = criterion(outputs, labels)\n",
        "            loss.backward()\n",
        "            optimizer.step()\n",
        "            running_loss += loss.item() * inputs.size(0)\n",
        "            _, predicted = torch.max(outputs, 1)\n",
        "            total_train += labels.size(0)\n",
        "            correct_train += (predicted == labels).sum().item()\n",
        "\n",
        "        epoch_loss = running_loss / len(train_loader.dataset)\n",
        "        train_losses.append(epoch_loss)\n",
        "        train_accuracy = 100 * correct_train / total_train\n",
        "        train_accs.append(train_accuracy)\n",
        "\n",
        "        # Validation loop\n",
        "        model.eval()\n",
        "        val_loss = 0.0\n",
        "        correct_val = 0\n",
        "        total_val = 0\n",
        "        with torch.no_grad():\n",
        "            for inputs, labels in val_loader:\n",
        "                outputs = model(inputs)\n",
        "                loss = criterion(outputs, labels)\n",
        "                val_loss += loss.item() * inputs.size(0)\n",
        "                _, predicted = torch.max(outputs, 1)\n",
        "                total_val += labels.size(0)\n",
        "                correct_val += (predicted == labels).sum().item()\n",
        "\n",
        "        val_loss = val_loss / len(val_loader.dataset)\n",
        "        val_losses.append(val_loss)\n",
        "        val_accuracy = 100 * correct_val / total_val\n",
        "        val_accs.append(val_accuracy)\n",
        "\n",
        "        print(f'Epoch {epoch+1}/{num_epochs}, Train Loss: {epoch_loss:.4f}, Train Accuracy: {train_accuracy:.2f}%, '\n",
        "              f'Val Loss: {val_loss:.4f}, Val Accuracy: {val_accuracy:.2f}%')\n",
        "\n",
        "        # Adjust learning rate if scheduler is provided\n",
        "        if scheduler is not None:\n",
        "            scheduler.step(val_loss)\n",
        "\n",
        "        # Early stopping\n",
        "        if val_loss < best_val_loss:\n",
        "            best_val_loss = val_loss\n",
        "            epochs_without_improvement = 0\n",
        "        else:\n",
        "            epochs_without_improvement += 1\n",
        "\n",
        "        if epochs_without_improvement > patience:\n",
        "            print(f'Early stopping at epoch {epoch+1}, best validation loss: {best_val_loss:.4f}')\n",
        "            break\n",
        "\n",
        "    # Plotting\n",
        "    plt.figure(figsize=(12, 5))\n",
        "\n",
        "    # Plot loss\n",
        "    plt.subplot(1, 2, 1)\n",
        "    plt.plot(range(1, len(train_losses) + 1), train_losses, label='Train Loss')\n",
        "    plt.plot(range(1, len(val_losses) + 1), val_losses, label='Validation Loss')\n",
        "    plt.xlabel('Epoch')\n",
        "    plt.ylabel('Loss')\n",
        "    plt.title('Training and Validation Loss')\n",
        "    plt.legend()\n",
        "\n",
        "    # Plot accuracy\n",
        "    plt.subplot(1, 2, 2)\n",
        "    plt.plot(range(1, len(train_accs) + 1), train_accs, label='Train Accuracy')\n",
        "    plt.plot(range(1, len(val_accs) + 1), val_accs, label='Validation Accuracy')\n",
        "    plt.xlabel('Epoch')\n",
        "    plt.ylabel('Accuracy (%)')\n",
        "    plt.title('Training and Validation Accuracy')\n",
        "    plt.legend()\n",
        "\n",
        "    plt.tight_layout()\n",
        "    plt.show()\n",
        "\n",
        "# Initialize model, optimizer, and loss function\n",
        "input_dim_enhanced = X_train_enhanced.shape[1]  # Assuming input dimensions\n",
        "output_dim_enhanced = len(set(y_train_enhanced))  # Assuming output dimensions for classification\n",
        "model_enhanced = SimpleNeuralNet(input_dim_enhanced, output_dim_enhanced)\n",
        "optimizer_enhanced = torch.optim.Adam(model_enhanced.parameters(), lr=0.001)\n",
        "scheduler_enhanced = ReduceLROnPlateau(optimizer_enhanced, mode='min', factor=0.5, patience=3, verbose=True)\n",
        "criterion_enhanced = nn.CrossEntropyLoss()\n",
        "\n",
        "# Train the model\n",
        "train_model_enhanced(model_enhanced, X_train_tensor, y_train_tensor, X_val_tensor, y_val_tensor, optimizer_enhanced, criterion_enhanced, scheduler=scheduler_enhanced, num_epochs=50, batch_size=64)\n",
        "\n"
      ],
      "metadata": {
        "colab": {
          "base_uri": "https://localhost:8080/",
          "height": 1000
        },
        "id": "1AwNHZnWm8jm",
        "outputId": "991aeea9-53a1-4a58-d3e7-2f68f710bbf3"
      },
      "execution_count": null,
      "outputs": [
        {
          "output_type": "stream",
          "name": "stderr",
          "text": [
            "/usr/local/lib/python3.10/dist-packages/torch/optim/lr_scheduler.py:28: UserWarning: The verbose parameter is deprecated. Please use get_last_lr() to access the learning rate.\n",
            "  warnings.warn(\"The verbose parameter is deprecated. Please use get_last_lr() \"\n"
          ]
        },
        {
          "output_type": "stream",
          "name": "stdout",
          "text": [
            "Epoch 1/50, Train Loss: 3.5683, Train Accuracy: 33.62%, Val Loss: 1.3915, Val Accuracy: 72.84%\n",
            "Epoch 2/50, Train Loss: 1.2304, Train Accuracy: 70.09%, Val Loss: 0.6980, Val Accuracy: 82.84%\n",
            "Epoch 3/50, Train Loss: 0.8625, Train Accuracy: 76.08%, Val Loss: 0.5630, Val Accuracy: 83.86%\n",
            "Epoch 4/50, Train Loss: 0.7223, Train Accuracy: 79.44%, Val Loss: 0.5111, Val Accuracy: 84.42%\n",
            "Epoch 5/50, Train Loss: 0.6572, Train Accuracy: 80.59%, Val Loss: 0.4719, Val Accuracy: 85.44%\n",
            "Epoch 6/50, Train Loss: 0.6092, Train Accuracy: 81.55%, Val Loss: 0.4519, Val Accuracy: 85.85%\n",
            "Epoch 7/50, Train Loss: 0.5821, Train Accuracy: 82.44%, Val Loss: 0.4549, Val Accuracy: 85.12%\n",
            "Epoch 8/50, Train Loss: 0.5578, Train Accuracy: 82.60%, Val Loss: 0.4464, Val Accuracy: 85.59%\n",
            "Epoch 9/50, Train Loss: 0.5087, Train Accuracy: 84.26%, Val Loss: 0.4420, Val Accuracy: 85.97%\n",
            "Epoch 10/50, Train Loss: 0.5018, Train Accuracy: 84.18%, Val Loss: 0.4425, Val Accuracy: 85.79%\n",
            "Epoch 11/50, Train Loss: 0.4796, Train Accuracy: 84.92%, Val Loss: 0.4310, Val Accuracy: 86.26%\n",
            "Epoch 12/50, Train Loss: 0.4740, Train Accuracy: 85.07%, Val Loss: 0.4386, Val Accuracy: 85.85%\n",
            "Epoch 13/50, Train Loss: 0.4555, Train Accuracy: 85.57%, Val Loss: 0.4492, Val Accuracy: 85.74%\n",
            "Epoch 14/50, Train Loss: 0.4459, Train Accuracy: 85.76%, Val Loss: 0.4388, Val Accuracy: 86.14%\n",
            "Epoch 15/50, Train Loss: 0.4352, Train Accuracy: 85.66%, Val Loss: 0.4544, Val Accuracy: 85.94%\n",
            "Epoch 16/50, Train Loss: 0.3720, Train Accuracy: 87.84%, Val Loss: 0.4144, Val Accuracy: 87.02%\n",
            "Epoch 17/50, Train Loss: 0.3378, Train Accuracy: 88.83%, Val Loss: 0.4087, Val Accuracy: 87.20%\n",
            "Epoch 18/50, Train Loss: 0.3237, Train Accuracy: 89.39%, Val Loss: 0.4151, Val Accuracy: 87.28%\n",
            "Epoch 19/50, Train Loss: 0.3136, Train Accuracy: 89.59%, Val Loss: 0.4162, Val Accuracy: 87.14%\n",
            "Epoch 20/50, Train Loss: 0.3060, Train Accuracy: 90.02%, Val Loss: 0.4155, Val Accuracy: 86.85%\n",
            "Epoch 21/50, Train Loss: 0.2910, Train Accuracy: 90.31%, Val Loss: 0.4164, Val Accuracy: 86.99%\n",
            "Epoch 22/50, Train Loss: 0.2656, Train Accuracy: 90.95%, Val Loss: 0.4073, Val Accuracy: 87.55%\n",
            "Epoch 23/50, Train Loss: 0.2576, Train Accuracy: 91.49%, Val Loss: 0.4102, Val Accuracy: 87.43%\n",
            "Epoch 24/50, Train Loss: 0.2550, Train Accuracy: 91.18%, Val Loss: 0.4137, Val Accuracy: 87.46%\n",
            "Epoch 25/50, Train Loss: 0.2491, Train Accuracy: 91.48%, Val Loss: 0.4153, Val Accuracy: 87.34%\n",
            "Epoch 26/50, Train Loss: 0.2412, Train Accuracy: 91.86%, Val Loss: 0.4213, Val Accuracy: 87.37%\n",
            "Epoch 27/50, Train Loss: 0.2326, Train Accuracy: 92.02%, Val Loss: 0.4162, Val Accuracy: 87.14%\n",
            "Epoch 28/50, Train Loss: 0.2216, Train Accuracy: 92.58%, Val Loss: 0.4130, Val Accuracy: 87.28%\n",
            "Early stopping at epoch 28, best validation loss: 0.4073\n"
          ]
        },
        {
          "output_type": "display_data",
          "data": {
            "text/plain": [
              "<Figure size 1200x500 with 2 Axes>"
            ],
            "image/png": "[encoded data removed]"
          },
          "metadata": {}
        }
      ]
    },
    {
      "cell_type": "code",
      "source": [
        "# Evaluate the model on the test set\n",
        "def evaluate_model_enhanced(model, X_test_tensor, y_test_tensor):\n",
        "    model.eval()\n",
        "    with torch.no_grad():\n",
        "        outputs = model(X_test_tensor)\n",
        "        _, predicted = torch.max(outputs, 1)\n",
        "        accuracy = accuracy_score(y_test_tensor.cpu().numpy(), predicted.cpu().numpy()) * 100\n",
        "        precision, recall, f1, _ = precision_recall_fscore_support(y_test_tensor.cpu().numpy(), predicted.cpu().numpy(), average='weighted')\n",
        "        print(f'Test Accuracy: {accuracy:.2f}%')\n",
        "        print(f'Precision: {precision:.4f}')\n",
        "        print(f'Recall: {recall:.4f}')\n",
        "        print(f'F1 Score: {f1:.4f}')\n",
        "\n",
        "# Convert test data to PyTorch tensor\n",
        "evaluate_model_enhanced(model_enhanced, X_test_tensor, y_test_tensor)"
      ],
      "metadata": {
        "colab": {
          "base_uri": "https://localhost:8080/"
        },
        "id": "SrInNYPkm5is",
        "outputId": "daa74420-5286-4423-c800-53db1985b598"
      },
      "execution_count": null,
      "outputs": [
        {
          "output_type": "stream",
          "name": "stdout",
          "text": [
            "Test Accuracy: 86.86%\n",
            "Precision: 0.8879\n",
            "Recall: 0.8686\n",
            "F1 Score: 0.8697\n"
          ]
        }
      ]
    },
    {
      "cell_type": "code",
      "source": [
        "from sklearn.metrics import precision_recall_fscore_support, accuracy_score\n",
        "\n",
        "# Function to evaluate the model\n",
        "def evaluate_model(model, criterion, X_test_tensor, y_test_tensor):\n",
        "    model.eval()\n",
        "    test_loss = 0.0\n",
        "    y_true = []\n",
        "    y_pred = []\n",
        "\n",
        "    with torch.no_grad():\n",
        "        outputs = model(X_test_tensor)\n",
        "        _, predicted = torch.max(outputs, 1)\n",
        "\n",
        "        # Calculate accuracy\n",
        "        accuracy = accuracy_score(y_test_tensor.cpu().numpy(), predicted.cpu().numpy()) * 100\n",
        "\n",
        "        # Calculate loss (if needed)\n",
        "        loss = criterion(outputs, y_test_tensor)\n",
        "        test_loss = loss.item()\n",
        "\n",
        "        # Convert tensors to numpy arrays for metrics calculation\n",
        "        y_true = y_test_tensor.cpu().numpy()\n",
        "        y_pred = predicted.cpu().numpy()\n",
        "\n",
        "    # Calculate precision, recall, f1-score\n",
        "    precision, recall, f1, _ = precision_recall_fscore_support(y_true, y_pred, average='weighted')\n",
        "\n",
        "    print(f'Test Accuracy: {accuracy:.2f}%')\n",
        "    print(f'Test Loss: {test_loss:.4f}')\n",
        "    print(f'Precision: {precision:.4f}')\n",
        "    print(f'Recall: {recall:.4f}')\n",
        "    print(f'F1 Score: {f1:.4f}')\n",
        "\n",
        "# Evaluate the model\n",
        "print('Version 1 Model:')\n",
        "evaluate_model(model_v1, criterion_v1, X_test_tensor_v1, y_test_tensor_v1)\n",
        "print('Enhanced Model:')\n",
        "evaluate_model(model_enhanced, criterion_enhanced, X_test_tensor, y_test_tensor)\n"
      ],
      "metadata": {
        "colab": {
          "base_uri": "https://localhost:8080/"
        },
        "id": "hrmmC2EruDSU",
        "outputId": "1f28826d-31a0-4ffc-a436-d35630b1fa74"
      },
      "execution_count": null,
      "outputs": [
        {
          "output_type": "stream",
          "name": "stdout",
          "text": [
            "Version 1 Model:\n"
          ]
        },
        {
          "output_type": "stream",
          "name": "stderr",
          "text": [
            "/usr/local/lib/python3.10/dist-packages/sklearn/metrics/_classification.py:1344: UndefinedMetricWarning: Recall and F-score are ill-defined and being set to 0.0 in labels with no true samples. Use `zero_division` parameter to control this behavior.\n",
            "  _warn_prf(average, modifier, msg_start, len(result))\n"
          ]
        },
        {
          "output_type": "stream",
          "name": "stdout",
          "text": [
            "Test Accuracy: 81.48%\n",
            "Test Loss: 1.3550\n",
            "Precision: 0.8444\n",
            "Recall: 0.8148\n",
            "F1 Score: 0.8170\n",
            "Enhanced Model:\n",
            "Test Accuracy: 86.86%\n",
            "Test Loss: 0.4391\n",
            "Precision: 0.8879\n",
            "Recall: 0.8686\n",
            "F1 Score: 0.8697\n"
          ]
        }
      ]
    },
    {
      "cell_type": "code",
      "execution_count": null,
      "metadata": {
        "id": "F0BF_Vnjwq5O"
      },
      "outputs": [],
      "source": [
        "torch.save(model_v1.state_dict(), 'symptoms_disease_model_v1.pth')\n",
        "torch.save(model_enhanced.state_dict(), 'symptoms_disease_model_enhanced.pth')"
      ]
    },
    {
      "cell_type": "code",
      "source": [
        "import torch\n",
        "import torch.nn as nn\n",
        "import numpy as np\n",
        "import pandas as pd\n",
        "from sklearn.metrics import precision_recall_fscore_support, accuracy_score, average_precision_score\n",
        "\n",
        "# Function to evaluate the model\n",
        "def evaluate_model(model, criterion, X_test_tensor, y_test_tensor):\n",
        "    model.eval()\n",
        "    test_loss = 0.0\n",
        "    y_true = []\n",
        "    y_pred = []\n",
        "\n",
        "    with torch.no_grad():\n",
        "        outputs = model(X_test_tensor)\n",
        "        _, predicted = torch.max(outputs, 1)\n",
        "\n",
        "        # Calculate accuracy\n",
        "        accuracy = accuracy_score(y_test_tensor.cpu().numpy(), predicted.cpu().numpy()) * 100\n",
        "\n",
        "        # Calculate loss (if needed)\n",
        "        loss = criterion(outputs, y_test_tensor)\n",
        "        test_loss = loss.item()\n",
        "\n",
        "        # Convert tensors to numpy arrays for metrics calculation\n",
        "        y_true = y_test_tensor.cpu().numpy()\n",
        "        y_pred = predicted.cpu().numpy()\n",
        "\n",
        "    # Calculate precision, recall, f1-score\n",
        "    precision, recall, f1, _ = precision_recall_fscore_support(y_true, y_pred, average='weighted')\n",
        "\n",
        "    return accuracy, test_loss, precision, recall, f1\n",
        "\n",
        "# Function to calculate AUPRC\n",
        "def calculate_auprc(model, X_test_tensor, y_test_tensor):\n",
        "    model.eval()\n",
        "    y_true = []\n",
        "    y_scores = []\n",
        "\n",
        "    with torch.no_grad():\n",
        "        outputs = model(X_test_tensor)\n",
        "        y_true = y_test_tensor.cpu().numpy()\n",
        "        y_scores = outputs.cpu().numpy()\n",
        "\n",
        "    # Calculate AUPRC for each class\n",
        "    auprc_scores = []\n",
        "    for i in range(y_scores.shape[1]):\n",
        "        auprc = average_precision_score(y_true == i, y_scores[:, i])\n",
        "        auprc_scores.append(auprc)\n",
        "\n",
        "    # Average AUPRC over all classes\n",
        "    mean_auprc = np.mean(auprc_scores)\n",
        "    return mean_auprc\n",
        "\n",
        "# Evaluate Version 1 Model\n",
        "accuracy_v1, test_loss_v1, precision_v1, recall_v1, f1_v1 = evaluate_model(model_v1, criterion_v1, X_test_tensor_v1, y_test_tensor_v1)\n",
        "mean_auprc_v1 = calculate_auprc(model_v1, X_test_tensor_v1, y_test_tensor_v1)\n",
        "\n",
        "# Evaluate Enhanced Model\n",
        "accuracy_enhanced, test_loss_enhanced, precision_enhanced, recall_enhanced, f1_enhanced = evaluate_model(model_enhanced, criterion_enhanced, X_test_tensor, y_test_tensor)\n",
        "mean_auprc_enhanced = calculate_auprc(model_enhanced, X_test_tensor, y_test_tensor)\n",
        "\n",
        "# Create DataFrame for comparison\n",
        "comparison_data = {\n",
        "    \"Metric\": [\"Test Accuracy\", \"Test Loss\", \"Precision\", \"Recall\", \"F1 Score\", \"Mean AUPRC\"],\n",
        "    \"Version 1 Model\": [f\"{accuracy_v1:.2f}%\", f\"{test_loss_v1:.4f}\", f\"{precision_v1:.4f}\", f\"{recall_v1:.4f}\", f\"{f1_v1:.4f}\", f\"{mean_auprc_v1:.4f}\"],\n",
        "    \"Enhanced Model\": [f\"{accuracy_enhanced:.2f}%\", f\"{test_loss_enhanced:.4f}\", f\"{precision_enhanced:.4f}\", f\"{recall_enhanced:.4f}\", f\"{f1_enhanced:.4f}\", f\"{mean_auprc_enhanced:.4f}\"]\n",
        "}\n",
        "\n",
        "comparison_df = pd.DataFrame(comparison_data)\n",
        "\n",
        "# Display the table\n",
        "print(comparison_df)\n"
      ],
      "metadata": {
        "colab": {
          "base_uri": "https://localhost:8080/"
        },
        "id": "exNuwa9l29mu",
        "outputId": "50c704fa-ce8e-4f6d-cfa7-c9b4bca67238"
      },
      "execution_count": null,
      "outputs": [
        {
          "output_type": "stream",
          "name": "stderr",
          "text": [
            "/usr/local/lib/python3.10/dist-packages/sklearn/metrics/_classification.py:1344: UndefinedMetricWarning: Recall and F-score are ill-defined and being set to 0.0 in labels with no true samples. Use `zero_division` parameter to control this behavior.\n",
            "  _warn_prf(average, modifier, msg_start, len(result))\n",
            "/usr/local/lib/python3.10/dist-packages/sklearn/metrics/_ranking.py:891: UserWarning: No positive class found in y_true, recall is set to one for all thresholds.\n",
            "  warnings.warn(\n",
            "/usr/local/lib/python3.10/dist-packages/sklearn/metrics/_ranking.py:891: UserWarning: No positive class found in y_true, recall is set to one for all thresholds.\n",
            "  warnings.warn(\n",
            "/usr/local/lib/python3.10/dist-packages/sklearn/metrics/_ranking.py:891: UserWarning: No positive class found in y_true, recall is set to one for all thresholds.\n",
            "  warnings.warn(\n",
            "/usr/local/lib/python3.10/dist-packages/sklearn/metrics/_ranking.py:891: UserWarning: No positive class found in y_true, recall is set to one for all thresholds.\n",
            "  warnings.warn(\n",
            "/usr/local/lib/python3.10/dist-packages/sklearn/metrics/_ranking.py:891: UserWarning: No positive class found in y_true, recall is set to one for all thresholds.\n",
            "  warnings.warn(\n",
            "/usr/local/lib/python3.10/dist-packages/sklearn/metrics/_ranking.py:891: UserWarning: No positive class found in y_true, recall is set to one for all thresholds.\n",
            "  warnings.warn(\n",
            "/usr/local/lib/python3.10/dist-packages/sklearn/metrics/_ranking.py:891: UserWarning: No positive class found in y_true, recall is set to one for all thresholds.\n",
            "  warnings.warn(\n",
            "/usr/local/lib/python3.10/dist-packages/sklearn/metrics/_ranking.py:891: UserWarning: No positive class found in y_true, recall is set to one for all thresholds.\n",
            "  warnings.warn(\n"
          ]
        },
        {
          "output_type": "stream",
          "name": "stdout",
          "text": [
            "          Metric Version 1 Model Enhanced Model\n",
            "0  Test Accuracy          81.48%         86.86%\n",
            "1      Test Loss          1.3550         0.4391\n",
            "2      Precision          0.8444         0.8879\n",
            "3         Recall          0.8148         0.8686\n",
            "4       F1 Score          0.8170         0.8697\n",
            "5     Mean AUPRC          0.8673         0.9288\n"
          ]
        },
        {
          "output_type": "stream",
          "name": "stderr",
          "text": [
            "/usr/local/lib/python3.10/dist-packages/sklearn/metrics/_ranking.py:891: UserWarning: No positive class found in y_true, recall is set to one for all thresholds.\n",
            "  warnings.warn(\n",
            "/usr/local/lib/python3.10/dist-packages/sklearn/metrics/_ranking.py:891: UserWarning: No positive class found in y_true, recall is set to one for all thresholds.\n",
            "  warnings.warn(\n"
          ]
        }
      ]
    },
    {
      "cell_type": "code",
      "source": [
        "import torch\n",
        "import torch.nn.functional as F\n",
        "from sklearn.feature_extraction.text import CountVectorizer\n",
        "from sklearn.preprocessing import StandardScaler\n",
        "\n",
        "def preprocess_symptoms(symptoms_text, vectorizer, scaler):\n",
        "    symptoms_transformed = vectorizer.transform([symptoms_text]).toarray()\n",
        "    symptoms_scaled = scaler.transform(symptoms_transformed)\n",
        "    symptoms_tensor = torch.tensor(symptoms_scaled, dtype=torch.float32)\n",
        "    return symptoms_tensor\n",
        "\n",
        "def predict_diseases(symptoms_text, model, vectorizer, label_encoder, scaler):\n",
        "    symptoms_tensor = preprocess_symptoms(symptoms_text, vectorizer, scaler)\n",
        "    model.eval()\n",
        "\n",
        "    with torch.no_grad():\n",
        "        outputs = model(symptoms_tensor)\n",
        "        probabilities = F.softmax(outputs, dim=1)\n",
        "\n",
        "    predicted_index = torch.argmax(outputs).item()\n",
        "    predicted_label = label_encoder.inverse_transform([predicted_index])[0]\n",
        "    return predicted_label, probabilities.numpy()\n",
        "\n",
        "input_symptoms_text = \"sharp chest pain, sore throat, cough, headache\"\n",
        "predicted_label, probabilities = predict_diseases(input_symptoms_text, model_enhanced, vectorizer, label_encoder, scaler)\n",
        "\n",
        "print(\"Predicted Disease:\", predicted_label)\n"
      ],
      "metadata": {
        "colab": {
          "base_uri": "https://localhost:8080/"
        },
        "id": "_xgVN36Z35J8",
        "outputId": "5b7cbbee-7b35-4c1f-b6a0-c7762bac9959"
      },
      "execution_count": null,
      "outputs": [
        {
          "output_type": "stream",
          "name": "stdout",
          "text": [
            "Predicted Disease: abscess of the pharynx\n"
          ]
        }
      ]
    }
  ],
  "metadata": {
    "kernelspec": {
      "display_name": "Python 3",
      "language": "python",
      "name": "python3"
    },
    "language_info": {
      "codemirror_mode": {
        "name": "ipython",
        "version": 3
      },
      "file_extension": ".py",
      "mimetype": "text/x-python",
      "name": "python",
      "nbconvert_exporter": "python",
      "pygments_lexer": "ipython3",
      "version": "3.11.4"
    },
    "colab": {
      "provenance": [],
      "include_colab_link": true
    }
  },
  "nbformat": 4,
  "nbformat_minor": 0
}